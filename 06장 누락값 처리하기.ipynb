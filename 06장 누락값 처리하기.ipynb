{
 "cells": [
  {
   "cell_type": "markdown",
   "metadata": {},
   "source": [
    "# 06-1 누락값이란?"
   ]
  },
  {
   "cell_type": "code",
   "execution_count": 3,
   "metadata": {},
   "outputs": [
    {
     "name": "stdout",
     "output_type": "stream",
     "text": [
      "True\n",
      "True\n",
      "True\n",
      "False\n",
      "True\n",
      "True\n"
     ]
    }
   ],
   "source": [
    "#누락값 확인하기\n",
    "from numpy import NaN, NAN, nan     #결측값을 뜻하는 단어들\n",
    "\n",
    "import pandas as pd\n",
    "print(pd.isnull(NaN))\n",
    "print(pd.isnull(nan))\n",
    "print(pd.isnull(NAN))     #isnull을 통해 결측값인지 확인\n",
    "\n",
    "print(pd.notnull(NaN))\n",
    "print(pd.notnull(42))\n",
    "print(pd.notnull('missing'))    #notnull을 통해 결측값이 아닌지 확인"
   ]
  },
  {
   "cell_type": "code",
   "execution_count": 10,
   "metadata": {},
   "outputs": [
    {
     "name": "stdout",
     "output_type": "stream",
     "text": [
      "Date                   122\n",
      "Day                    122\n",
      "Cases_Guinea            93\n",
      "Cases_Liberia           83\n",
      "Cases_SierraLeone       87\n",
      "Cases_Nigeria           38\n",
      "Cases_Senegal           25\n",
      "Cases_UnitedStates      18\n",
      "Cases_Spain             16\n",
      "Cases_Mali              12\n",
      "Deaths_Guinea           92\n",
      "Deaths_Liberia          81\n",
      "Deaths_SierraLeone      87\n",
      "Deaths_Nigeria          38\n",
      "Deaths_Senegal          22\n",
      "Deaths_UnitedStates     18\n",
      "Deaths_Spain            16\n",
      "Deaths_Mali             12\n",
      "dtype: int64\n",
      "\n",
      "Date                     0\n",
      "Day                      0\n",
      "Cases_Guinea            29\n",
      "Cases_Liberia           39\n",
      "Cases_SierraLeone       35\n",
      "Cases_Nigeria           84\n",
      "Cases_Senegal           97\n",
      "Cases_UnitedStates     104\n",
      "Cases_Spain            106\n",
      "Cases_Mali             110\n",
      "Deaths_Guinea           30\n",
      "Deaths_Liberia          41\n",
      "Deaths_SierraLeone      35\n",
      "Deaths_Nigeria          84\n",
      "Deaths_Senegal         100\n",
      "Deaths_UnitedStates    104\n",
      "Deaths_Spain           106\n",
      "Deaths_Mali            110\n",
      "dtype: int64\n"
     ]
    }
   ],
   "source": [
    "#누락값의 개수 구하기\n",
    "ebola = pd.read_csv('C:/Users/admin/Desktop/데이터 분석을 위한 판다스 입문/doit_pandas-master/data/country_timeseries.csv')\n",
    "print(ebola.count())    #count 메서드를 통해 누락값이 아닌 값의 개수 구하기\n",
    "print()\n",
    "num_rows = ebola.shape[0]                  #ebola의 전체 행의 수\n",
    "num_missing = num_rows - ebola.count()     #전체 행의 수에서 각 열별 데이터 수 빼기\n",
    "print(num_missing)"
   ]
  },
  {
   "cell_type": "code",
   "execution_count": 12,
   "metadata": {},
   "outputs": [
    {
     "name": "stdout",
     "output_type": "stream",
     "text": [
      "NaN      29\n",
      "86.0      3\n",
      "495.0     2\n",
      "112.0     2\n",
      "390.0     2\n",
      "Name: Cases_Guinea, dtype: int64\n"
     ]
    }
   ],
   "source": [
    "#열의 빈도를 통해 누락값의 수 구하기\n",
    "print(ebola.Cases_Guinea.value_counts(dropna = False).head())    #Cases_Guinea 열의 빈도 수"
   ]
  },
  {
   "cell_type": "code",
   "execution_count": 14,
   "metadata": {},
   "outputs": [
    {
     "name": "stdout",
     "output_type": "stream",
     "text": [
      "         Date  Day  Cases_Guinea  Cases_Liberia  Cases_SierraLeone\n",
      "0    1/5/2015  289        2776.0            0.0            10030.0\n",
      "1    1/4/2015  288        2775.0            0.0             9780.0\n",
      "2    1/3/2015  287        2769.0         8166.0             9722.0\n",
      "3    1/2/2015  286           0.0         8157.0                0.0\n",
      "4  12/31/2014  284        2730.0         8115.0             9633.0\n",
      "5  12/28/2014  281        2706.0         8018.0             9446.0\n",
      "6  12/27/2014  280        2695.0            0.0             9409.0\n",
      "7  12/24/2014  277        2630.0         7977.0             9203.0\n",
      "8  12/21/2014  273        2597.0            0.0             9004.0\n",
      "9  12/20/2014  272        2571.0         7862.0             8939.0\n",
      "\n",
      "         Date  Day  Cases_Guinea  Cases_Liberia  Cases_SierraLeone\n",
      "0    1/5/2015  289        2776.0            NaN            10030.0\n",
      "1    1/4/2015  288        2775.0            NaN             9780.0\n",
      "2    1/3/2015  287        2769.0         8166.0             9722.0\n",
      "3    1/2/2015  286        2769.0         8157.0             9722.0\n",
      "4  12/31/2014  284        2730.0         8115.0             9633.0\n",
      "5  12/28/2014  281        2706.0         8018.0             9446.0\n",
      "6  12/27/2014  280        2695.0         8018.0             9409.0\n",
      "7  12/24/2014  277        2630.0         7977.0             9203.0\n",
      "8  12/21/2014  273        2597.0         7977.0             9004.0\n",
      "9  12/20/2014  272        2571.0         7862.0             8939.0\n",
      "\n",
      "         Date  Day  Cases_Guinea  Cases_Liberia  Cases_SierraLeone\n",
      "0    1/5/2015  289        2776.0         8166.0            10030.0\n",
      "1    1/4/2015  288        2775.0         8166.0             9780.0\n",
      "2    1/3/2015  287        2769.0         8166.0             9722.0\n",
      "3    1/2/2015  286        2730.0         8157.0             9633.0\n",
      "4  12/31/2014  284        2730.0         8115.0             9633.0\n",
      "5  12/28/2014  281        2706.0         8018.0             9446.0\n",
      "6  12/27/2014  280        2695.0         7977.0             9409.0\n",
      "7  12/24/2014  277        2630.0         7977.0             9203.0\n",
      "8  12/21/2014  273        2597.0         7862.0             9004.0\n",
      "9  12/20/2014  272        2571.0         7862.0             8939.0\n",
      "\n",
      "         Date  Day  Cases_Guinea  Cases_Liberia  Cases_SierraLeone\n",
      "0    1/5/2015  289        2776.0            NaN            10030.0\n",
      "1    1/4/2015  288        2775.0            NaN             9780.0\n",
      "2    1/3/2015  287        2769.0         8166.0             9722.0\n",
      "3    1/2/2015  286        2749.5         8157.0             9677.5\n",
      "4  12/31/2014  284        2730.0         8115.0             9633.0\n",
      "5  12/28/2014  281        2706.0         8018.0             9446.0\n",
      "6  12/27/2014  280        2695.0         7997.5             9409.0\n",
      "7  12/24/2014  277        2630.0         7977.0             9203.0\n",
      "8  12/21/2014  273        2597.0         7919.5             9004.0\n",
      "9  12/20/2014  272        2571.0         7862.0             8939.0\n"
     ]
    }
   ],
   "source": [
    "#누락값 변경하기\n",
    "print(ebola.fillna(0).iloc[0:10, 0:5])    #fillna에 0을 대입하면 누락값을 0으로 변경\n",
    "print()\n",
    "print(ebola.fillna(method = 'ffill').iloc[0:10, 0:5])    #fillna에 method = 'ffill'을 대입하면 누락값을 누락값 이전 값으로 변경\n",
    "print()\n",
    "print(ebola.fillna(method = 'bfill').iloc[0:10, 0:5])    #fillna에 method = 'bfill'을 대입하면 누락값을 누락값 다음 값으로 변경\n",
    "print()\n",
    "print(ebola.interpolate().iloc[0:10, 0:5])    #interpolate()을 사용하면 누락값 양쪽에 있는 값을 이용하여 중간값으로 누락값 변경"
   ]
  },
  {
   "cell_type": "code",
   "execution_count": 25,
   "metadata": {},
   "outputs": [
    {
     "name": "stdout",
     "output_type": "stream",
     "text": [
      "(122, 18)\n",
      "(1, 18)\n"
     ]
    }
   ],
   "source": [
    "#누락값 삭제하기\n",
    "print(ebola.shape)\n",
    "ebola_dropna = ebola.dropna()     #누락값이 포함된 행 모두 삭제\n",
    "print(ebola_dropna.shape)"
   ]
  },
  {
   "cell_type": "code",
   "execution_count": 28,
   "metadata": {},
   "outputs": [
    {
     "name": "stdout",
     "output_type": "stream",
     "text": [
      "84729.0\n"
     ]
    }
   ],
   "source": [
    "#누락값이 포함된 데이터 계산하기\n",
    "print(ebola.Cases_Guinea.sum(skipna = True))    #누락값을 무시한채 계산, skipna = False로 하면 결과가 NaN으로 출력"
   ]
  }
 ],
 "metadata": {
  "kernelspec": {
   "display_name": "Python 3",
   "language": "python",
   "name": "python3"
  },
  "language_info": {
   "codemirror_mode": {
    "name": "ipython",
    "version": 3
   },
   "file_extension": ".py",
   "mimetype": "text/x-python",
   "name": "python",
   "nbconvert_exporter": "python",
   "pygments_lexer": "ipython3",
   "version": "3.8.5"
  }
 },
 "nbformat": 4,
 "nbformat_minor": 4
}
