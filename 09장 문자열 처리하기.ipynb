{
 "cells": [
  {
   "cell_type": "markdown",
   "metadata": {},
   "source": [
    "# 09-1 문자열 다루기"
   ]
  },
  {
   "cell_type": "code",
   "execution_count": 8,
   "metadata": {},
   "outputs": [
    {
     "name": "stdout",
     "output_type": "stream",
     "text": [
      "g\n",
      "a s\n"
     ]
    }
   ],
   "source": [
    "#문자열 추출하기\n",
    "word = 'grill'\n",
    "sent = 'a scratch'\n",
    "\n",
    "print(word[0])\n",
    "print(sent[0:3])"
   ]
  },
  {
   "cell_type": "code",
   "execution_count": 12,
   "metadata": {},
   "outputs": [
    {
     "name": "stdout",
     "output_type": "stream",
     "text": [
      "gri\n",
      "scratch\n",
      "a scratch\n",
      "asrth\n"
     ]
    }
   ],
   "source": [
    "#문자열 추출하기 심화\n",
    "print(word[ :3])\n",
    "print(sent[2:len(sent)])\n",
    "print(sent[:])\n",
    "print(sent[::2])    #간격을 2로 추출하기"
   ]
  },
  {
   "cell_type": "markdown",
   "metadata": {},
   "source": [
    "# 09-2 문자열 메서드"
   ]
  },
  {
   "cell_type": "code",
   "execution_count": 35,
   "metadata": {},
   "outputs": [
    {
     "name": "stdout",
     "output_type": "stream",
     "text": [
      "Black knight\n",
      "2\n",
      "True\n",
      "True\n",
      "6\n",
      "12\n",
      "False\n",
      "False\n",
      "BLACK KNIGHT\n",
      "black knight\n",
      "flesh scratch!\n",
      "I'm not dead.\n",
      "['NI!', 'NI!', 'NI!', 'NI!']\n",
      "('3', ',', '4')\n"
     ]
    }
   ],
   "source": [
    "#문자열 메서드\n",
    "print(\"black Knight\".capitalize())                       #첫 문자를 대문자로 변환\n",
    "print(\"It's just a flesh wound!\".count('u'))             #문자열의 개수를 반환\n",
    "print(\"Halt! Who goes there?\".startswith('Halt'))        #문자열이 특정 문자로 시작하면 참 반환\n",
    "print(\"coconut\".endswith('nut'))                         #문자열이 특정 문자로 끝나면 참 반환\n",
    "print(\"It's just a flesh wound!\".find('u'))              #찾을 문자열의 첫 번째 인덱스를 반환, 실패 시 -1 반환\n",
    "print(\"It's just a flesh wound!\".index('flesh'))         #find와 같지만, 실패 시 ValueError 반환\n",
    "print(\"old woman\".isalpha())                             #모든 문자가 알파벳이면 참\n",
    "print(\"I'm 37\".isalnum())                                #모든 문자가 알파벳이거나 숫자면 참\n",
    "print(\"Black Knight\".upper())                            #모든 문자를 대문자로 변환\n",
    "print(\"Black Knight\".lower())                            #모든 문자를 소문자로 변환\n",
    "print(\"flesh wound!\".replace('wound', 'scratch'))        #문자열의 문자를 다른 문자로 교체\n",
    "print(\"   I'm not dead.   \".strip())                     #문자열의 맨 앞과 맨 뒤에 있는 빈 칸을 제거\n",
    "print(\"NI! NI! NI! NI!\".split(sep = ' '))                #구분자를 지정하여 문자열을 나누고, 나눈 값들을 리스트로 반환\n",
    "print(\"3,4\".partition(','))                              #split 메서드와 비슷한 역할을 수행하지만 구분자도 반환"
   ]
  },
  {
   "cell_type": "markdown",
   "metadata": {},
   "source": [
    "# 09-3 문자열 포매팅"
   ]
  },
  {
   "cell_type": "code",
   "execution_count": 45,
   "metadata": {},
   "outputs": [
    {
     "name": "stdout",
     "output_type": "stream",
     "text": [
      "It's just a flesh wound!\n",
      "It's just a scratch!\n",
      "\n",
      "Black Knight: 'Tis but a scratch.\n",
      "King Arthur: A scratch? Your arm's off!\n",
      "\n",
      "\n"
     ]
    }
   ],
   "source": [
    "#문자열 포매팅하기\n",
    "var = 'flesh wound'\n",
    "s = \"It's just a {}!\"         #단어를 삽입할 위치를 {}로 지정\n",
    "print(s.format(var))          #format 메서드에 원하는 단어 전달\n",
    "print(s.format('scratch'))\n",
    "print()\n",
    "\n",
    "s = \"\"\"Black Knight: 'Tis but a {0}.\n",
    "King Arthur: A {1}? Your arm's {2}!\n",
    "\"\"\"\n",
    "print(s.format('scratch', 'scratch', 'off'))         #format을 여러 곳에도 사용 가능\n",
    "print()"
   ]
  },
  {
   "cell_type": "code",
   "execution_count": 46,
   "metadata": {},
   "outputs": [
    {
     "name": "stdout",
     "output_type": "stream",
     "text": [
      "I only know 7 digits of pi\n",
      "Some digits of e : 2.72\n"
     ]
    }
   ],
   "source": [
    "#%연산자로 포매팅하기\n",
    "s = 'I only know %d digits of pi' % 7      #숫자형은 %d\n",
    "print(s)\n",
    "print('Some digits of %(cont)s : %(value).2f' % {'cont': 'e', 'value': 2.718})    #문자형은 %s"
   ]
  }
 ],
 "metadata": {
  "kernelspec": {
   "display_name": "Python 3",
   "language": "python",
   "name": "python3"
  },
  "language_info": {
   "codemirror_mode": {
    "name": "ipython",
    "version": 3
   },
   "file_extension": ".py",
   "mimetype": "text/x-python",
   "name": "python",
   "nbconvert_exporter": "python",
   "pygments_lexer": "ipython3",
   "version": "3.8.5"
  }
 },
 "nbformat": 4,
 "nbformat_minor": 4
}
